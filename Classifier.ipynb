{
 "cells": [
  {
   "cell_type": "code",
   "execution_count": null,
   "metadata": {
    "collapsed": true
   },
   "outputs": [],
   "source": []
  },
  {
   "cell_type": "code",
   "execution_count": null,
   "metadata": {
    "collapsed": true
   },
   "outputs": [],
   "source": [
    "def myintersect(a, b):\n",
    "    if (len(a) == len(b)):\n",
    "        result = []\n",
    "        count = 0\n",
    "        for i in range(len(a)):\n",
    "            if (a[i] == b[i]):\n",
    "                result.append(a[i])\n",
    "                count += 1\n",
    "            else:\n",
    "                result.append(MyErrorWord)\n",
    "        return result, count \n",
    "    else:\n",
    "        return 'Error(not corresponds dimentions)', 0\n",
    "def issub(a, b):\n",
    "    if (len(a) == len(b)):\n",
    "        result = []\n",
    "        count = 0\n",
    "        for i in range(len(a)):\n",
    "            if (a[i]!= MyErrorWord):\n",
    "                if (a[i] != b[i]):\n",
    "                    return False\n",
    "        return True\n",
    "    else:\n",
    "        return 'Error(not corresponds dimentions)'"
   ]
  }
 ],
 "metadata": {
  "anaconda-cloud": {},
  "kernelspec": {
   "display_name": "Python [default]",
   "language": "python",
   "name": "python3"
  },
  "language_info": {
   "codemirror_mode": {
    "name": "ipython",
    "version": 3
   },
   "file_extension": ".py",
   "mimetype": "text/x-python",
   "name": "python",
   "nbconvert_exporter": "python",
   "pygments_lexer": "ipython3",
   "version": "3.5.2"
  }
 },
 "nbformat": 4,
 "nbformat_minor": 2
}
