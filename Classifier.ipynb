{
 "cells": [
  {
   "cell_type": "code",
   "execution_count": 93,
   "metadata": {
    "collapsed": true
   },
   "outputs": [],
   "source": [
    "import numpy as np\n",
    "import pandas as pd\n",
    "from matplotlib import pyplot as plt\n",
    "%matplotlib inline"
   ]
  },
  {
   "cell_type": "markdown",
   "metadata": {},
   "source": [
    "# Метод на основе 'генераторов'"
   ]
  },
  {
   "cell_type": "code",
   "execution_count": 94,
   "metadata": {
    "collapsed": false
   },
   "outputs": [],
   "source": [
    "MyErrorWord = 'NaN'\n",
    "\n",
    "def myintersect(a, b):\n",
    "# поиск пересечения по значениям у двух объектов\n",
    "# returns (intersection list with len(a), count of intersection positions == support) or Error message\n",
    "    if (len(a) == len(b)):\n",
    "        result = []\n",
    "        count = 0\n",
    "        for i in range(len(a)):\n",
    "            if (a[i] == b[i]):\n",
    "                result.append(a[i])\n",
    "                count += 1\n",
    "            else:\n",
    "                result.append(MyErrorWord)\n",
    "        return result, count \n",
    "    else:\n",
    "        print ('Error(not corresponds dimentions)')\n",
    "        return 'Error(not corresponds dimentions)', 0\n",
    "def issub(a, b):\n",
    "# включается ли один объект(а) в другой(b)\n",
    "# returns True or False or Error message\n",
    "    if (len(a) == len(b)):\n",
    "        result = []\n",
    "        count = 0\n",
    "        for i in range(len(a)):\n",
    "            if (a[i]!= MyErrorWord):\n",
    "                if (a[i] != b[i]):\n",
    "                    return False\n",
    "        return True\n",
    "    else:\n",
    "        print ('Error(not corresponds dimentions)')\n",
    "        return 'Error(not corresponds dimentions)'"
   ]
  },
  {
   "cell_type": "markdown",
   "metadata": {},
   "source": [
    "positive = []\n",
    "countPosEx = 0\n",
    "negative = []\n",
    "countNegEx = 0\n",
    "ff = []"
   ]
  },
  {
   "cell_type": "markdown",
   "metadata": {},
   "source": [
    "#### Считывание размеченной тренировочной выборки"
   ]
  },
  {
   "cell_type": "code",
   "execution_count": 95,
   "metadata": {
    "collapsed": true
   },
   "outputs": [],
   "source": [
    "def readtrain(INPUTnum):\n",
    "    global positive;\n",
    "    global negative;\n",
    "    global ff;\n",
    "    global countPosEx;\n",
    "    global countNegEx;\n",
    "    \n",
    "    positive = []\n",
    "    countPosEx = 0\n",
    "    negative = []\n",
    "    countNegEx = 0\n",
    "    ff = []\n",
    "    \n",
    "    f = open(\"train\"+str(INPUTnum)+\".csv\", 'r')\n",
    "    ff = pd.read_csv(f)\n",
    "    f.close()\n",
    "    ff = ff.values\n",
    "    for i in ff:\n",
    "        if i[-1] == 'positive':\n",
    "            positive.append(i[:-1])\n",
    "        else:\n",
    "            negative.append(i[:-1])\n",
    "\n",
    "    f = open(\"test\"+str(INPUTnum)+\".csv\")\n",
    "    ff = pd.read_csv(f)\n",
    "    f.close()\n",
    "    ff = ff.values\n",
    "    countPosEx = len(positive)\n",
    "    countNegEx = len(negative)"
   ]
  },
  {
   "cell_type": "markdown",
   "metadata": {
    "collapsed": true
   },
   "source": [
    "#### Проверка классифицируемого объекта на плюс-контексте и минус-контексте (получение необходимых оценок, для классификации)"
   ]
  },
  {
   "cell_type": "code",
   "execution_count": 96,
   "metadata": {
    "collapsed": true
   },
   "outputs": [],
   "source": [
    "def mycheck(NewObject):\n",
    "    global positive;\n",
    "    global negative;\n",
    "    global ff;\n",
    "    global countPosEx;\n",
    "    global countNegEx;\n",
    "    \n",
    "    \n",
    "    #print (NewObject)\n",
    "    i1 = NewObject[:-1]\n",
    "    \n",
    "    # check for g+\n",
    "    maxPlusSup = 0;\n",
    "    summPlusSups = 0.0;\n",
    "    intersectionsPos = []\n",
    "    for j in positive:\n",
    "        myflag1 = 0\n",
    "        T = myintersect(i1, j)\n",
    "        intersectionsPos.append(T[1])\n",
    "        if (T[1] > 0):\n",
    "            if T[1] > maxPlusSup:\n",
    "                maxPlusSup = T[1]\n",
    "            summPlusSups += T[1]\n",
    "            myflag = 0\n",
    "            for q in negative:\n",
    "                if issub(T[0], q):\n",
    "                    myflag = 1\n",
    "            if (myflag == 0):\n",
    "                myflag1 = 1\n",
    "    #print ('+=', myflag1)\n",
    "    #print ('+=', maxPlusSup, ' avg = ', summPlusSups/countPosEx)\n",
    "    \n",
    "    # check for g-\n",
    "    maxMinusSup = 0;\n",
    "    summMinusSups = 0.0;\n",
    "    intersectionsNeg = [];\n",
    "    for j in negative:\n",
    "        myflag1 = 0\n",
    "        T = myintersect(i1, j)\n",
    "        intersectionsNeg.append(T[1])\n",
    "        if (T[1] > 0):\n",
    "            if T[1] > maxMinusSup:\n",
    "                maxMinusSup = T[1]\n",
    "            summMinusSups += T[1]\n",
    "            myflag = 0\n",
    "            for q in positive:\n",
    "                if issub(T[0], q):\n",
    "                    myflag = 1\n",
    "            if (myflag == 0):\n",
    "                myflag1 = 1\n",
    "    #print ('-=', myflag1)\n",
    "    #print ('-=', maxMinusSup,  ' avg = ', summMinusSups/countNegEx)\n",
    "    \n",
    "    return (maxPlusSup, summPlusSups/countPosEx, maxMinusSup, summMinusSups/countNegEx, intersectionsPos, intersectionsNeg)"
   ]
  },
  {
   "cell_type": "markdown",
   "metadata": {
    "collapsed": true
   },
   "source": [
    "### Классификатор"
   ]
  },
  {
   "cell_type": "markdown",
   "metadata": {},
   "source": [
    "#### посмотрим на оценки(и будем использовать их для классификации):\n",
    "- максимальная поддержка в контексте\n",
    "- средняя поддержка для всего контекста  \n",
    "(попробуем поподбирать различные варианты условий, для построения дерева решения  \n",
    "одним из наилучших будет следующей вариант)"
   ]
  },
  {
   "cell_type": "code",
   "execution_count": 97,
   "metadata": {
    "collapsed": false
   },
   "outputs": [],
   "source": [
    "def decide(T):\n",
    "    if (T[0] > T[2] + 1):\n",
    "        if (abs(T[1]-T[3]) <= 0.5):\n",
    "            return 'positive'\n",
    "        elif T[3]-T[1] > 0.5:\n",
    "            return 'negative'\n",
    "        else:\n",
    "            return 'positive'\n",
    "        \n",
    "    elif (T[2] > T[0] + 1):\n",
    "        if (abs(T[1]-T[3]) <= 0.5):\n",
    "            return 'negative'\n",
    "        elif T[1]-T[3] > 0.5:\n",
    "            return 'positive'\n",
    "        else:\n",
    "            return 'negative'\n",
    "    elif (T[0] == T[2]):\n",
    "        if T[1] > T[3]:\n",
    "            return 'positive'\n",
    "        else:\n",
    "            return 'negative'\n",
    "    else:\n",
    "        if (T[0]*T[1] > T[2]*T[3]):\n",
    "            return 'positive'\n",
    "        else:\n",
    "            return 'negative'"
   ]
  },
  {
   "cell_type": "markdown",
   "metadata": {},
   "source": [
    "#### Вычисление оценок"
   ]
  },
  {
   "cell_type": "code",
   "execution_count": 98,
   "metadata": {
    "collapsed": true
   },
   "outputs": [],
   "source": [
    "def estimation():\n",
    "    global ff;\n",
    "    \n",
    "    result = []\n",
    "    TP = 0.0 # True positive\n",
    "    TN = 0.0 # True negative\n",
    "    FP = 0.0 # False positive\n",
    "    FN = 0.0 # False negative\n",
    "    F1 = 0.0\n",
    "    for i in range(len(ff)):\n",
    "        r = mycheck(ff[i])\n",
    "        result.append(decide(r))\n",
    "        if (ff[i][-1] == 'positive'):\n",
    "            if result[-1] == ff[i][-1]:\n",
    "                TP += 1\n",
    "            else:\n",
    "                FN += 1\n",
    "        else:\n",
    "            if result[-1] == ff[i][-1]:\n",
    "                TN += 1\n",
    "            else:\n",
    "                FP += 1\n",
    "    return {'TP':TP,'FN':FN, 'FP':FP, 'TN':TN}"
   ]
  },
  {
   "cell_type": "markdown",
   "metadata": {
    "collapsed": true
   },
   "source": [
    "#### Проверка всех новых объектов(тестовые выборки)"
   ]
  },
  {
   "cell_type": "code",
   "execution_count": 99,
   "metadata": {
    "collapsed": false
   },
   "outputs": [
    {
     "name": "stdout",
     "output_type": "stream",
     "text": [
      "35.0 26.0\n",
      "8.0 24.0\n",
      "precision= 0.813953488372093\n",
      "recall= 0.5737704918032787\n",
      "F1= 0.673076923076923\n",
      "37.0 14.0\n",
      "14.0 22.0\n",
      "precision= 0.7254901960784313\n",
      "recall= 0.7254901960784313\n",
      "F1= 0.7254901960784313\n",
      "49.0 16.0\n",
      "8.0 27.0\n",
      "precision= 0.8596491228070176\n",
      "recall= 0.7538461538461538\n",
      "F1= 0.8032786885245903\n",
      "37.0 22.0\n",
      "11.0 19.0\n",
      "precision= 0.7708333333333334\n",
      "recall= 0.6271186440677966\n",
      "F1= 0.691588785046729\n",
      "41.0 21.0\n",
      "11.0 16.0\n",
      "precision= 0.7884615384615384\n",
      "recall= 0.6612903225806451\n",
      "F1= 0.7192982456140351\n",
      "39.0 17.0\n",
      "8.0 21.0\n",
      "precision= 0.8297872340425532\n",
      "recall= 0.6964285714285714\n",
      "F1= 0.7572815533980582\n",
      "46.0 24.0\n",
      "13.0 31.0\n",
      "precision= 0.7796610169491526\n",
      "recall= 0.6571428571428571\n",
      "F1= 0.7131782945736435\n",
      "52.0 21.0\n",
      "13.0 21.0\n",
      "precision= 0.8\n",
      "recall= 0.7123287671232876\n",
      "F1= 0.753623188405797\n",
      "56.0 14.0\n",
      "10.0 23.0\n",
      "precision= 0.8484848484848485\n",
      "recall= 0.8\n",
      "F1= 0.8235294117647058\n",
      "38.0 21.0\n",
      "13.0 19.0\n",
      "precision= 0.7450980392156863\n",
      "recall= 0.6440677966101694\n",
      "F1= 0.6909090909090909\n"
     ]
    }
   ],
   "source": [
    "test = []\n",
    "for i in range(1,11):\n",
    "    readtrain(i)\n",
    "    test.append(estimation())\n",
    "    print (test[-1]['TP'], test[-1]['FN'])\n",
    "    print (test[-1]['FP'], test[-1]['TN'])\n",
    "    # precision\n",
    "    test[-1]['precision'] = test[-1]['TP']/(test[-1]['TP']+test[-1]['FP'])\n",
    "    print ('precision=', test[-1]['precision'])\n",
    "    # recall\n",
    "    test[-1]['recall'] = test[-1]['TP']/(test[-1]['TP']+test[-1]['FN'])\n",
    "    print ('recall=', test[-1]['recall'])\n",
    "    # F1-score\n",
    "    test[-1]['F1'] = 2/(1/test[-1]['recall']+1/test[-1]['precision'])\n",
    "    print ('F1=', test[-1]['F1'])"
   ]
  },
  {
   "cell_type": "code",
   "execution_count": 100,
   "metadata": {
    "collapsed": false
   },
   "outputs": [
    {
     "name": "stdout",
     "output_type": "stream",
     "text": [
      "avg p =  0.796141881774\n",
      "avg r =  0.685148380068\n",
      "avg f1 =  0.735125437739\n"
     ]
    }
   ],
   "source": [
    "p = np.array([i['precision'] for i in test])\n",
    "r = np.array([i['recall'] for i in test])\n",
    "f1 = np.array([i['F1'] for i in test])\n",
    "print ('avg p = ', np.mean(p))\n",
    "print ('avg r = ', np.mean(r))\n",
    "print ('avg f1 = ', np.mean(f1))"
   ]
  },
  {
   "cell_type": "markdown",
   "metadata": {},
   "source": [
    "#### Видим, что классификация не очень удачная,  так как среднее значение F1-меры только 0.73"
   ]
  },
  {
   "cell_type": "markdown",
   "metadata": {},
   "source": [
    "# Теперь попробуем с помощью RandomForestClassifier"
   ]
  },
  {
   "cell_type": "code",
   "execution_count": 101,
   "metadata": {
    "collapsed": true
   },
   "outputs": [],
   "source": [
    "from sklearn.ensemble import RandomForestClassifier as RFC"
   ]
  },
  {
   "cell_type": "markdown",
   "metadata": {},
   "source": [
    "### Сделаем преобразование входных данных с помощью отображения:\n",
    "- 'x' -> 1\n",
    "- 'b' -> 0\n",
    "- 'o' -> -1"
   ]
  },
  {
   "cell_type": "code",
   "execution_count": 102,
   "metadata": {
    "collapsed": false
   },
   "outputs": [],
   "source": [
    "def mytransform(a):\n",
    "    res = []\n",
    "    for i in range(len(a)):\n",
    "        if (a[i] == 'x'):\n",
    "            res.append(1)\n",
    "        elif (a[i] == 'b'):\n",
    "            res.append(0)\n",
    "        else:\n",
    "            res.append(-1)\n",
    "    return res"
   ]
  },
  {
   "cell_type": "markdown",
   "metadata": {},
   "source": [
    "#### Чтение входных данных"
   ]
  },
  {
   "cell_type": "code",
   "execution_count": 103,
   "metadata": {
    "collapsed": true
   },
   "outputs": [],
   "source": [
    "def readtrainForest(INPUTnum):\n",
    "    global positive;\n",
    "    global negative;\n",
    "    global ff;\n",
    "    global countPosEx;\n",
    "    global countNegEx;\n",
    "    \n",
    "    ff = []\n",
    "    \n",
    "    f = open(\"train\"+str(INPUTnum)+\".csv\", 'r')\n",
    "    ff = pd.read_csv(f)\n",
    "    #print (ff.head())\n",
    "    X = ff[['V1','V2','V3','V4','V5','V6','V7','V8','V9']].values\n",
    "    X_r = []\n",
    "    for i in X:\n",
    "        X_r.append(mytransform(i))\n",
    "    y = ff['V10'].values\n",
    "    f.close()\n",
    "    \n",
    "    f = open(\"test\"+str(INPUTnum)+\".csv\")\n",
    "    ff = pd.read_csv(f)\n",
    "    X1 = ff[['V1','V2','V3','V4','V5','V6','V7','V8','V9']].values\n",
    "    X1_r = []\n",
    "    for i in X1:\n",
    "        X1_r.append(mytransform(i))\n",
    "    y1 = ff['V10'].values\n",
    "    f.close()\n",
    "    \n",
    "    return X_r, y, X1_r, y1"
   ]
  },
  {
   "cell_type": "code",
   "execution_count": 104,
   "metadata": {
    "collapsed": false
   },
   "outputs": [
    {
     "name": "stdout",
     "output_type": "stream",
     "text": [
      "60.0 1.0\n",
      "2.0 30.0\n",
      "precision= 0.967741935483871\n",
      "recall= 0.9836065573770492\n",
      "F1= 0.9756097560975611\n",
      "49.0 2.0\n",
      "1.0 35.0\n",
      "precision= 0.98\n",
      "recall= 0.9607843137254902\n",
      "F1= 0.9702970297029702\n",
      "64.0 1.0\n",
      "0.0 35.0\n",
      "precision= 1.0\n",
      "recall= 0.9846153846153847\n",
      "F1= 0.9922480620155039\n",
      "57.0 2.0\n",
      "3.0 27.0\n",
      "precision= 0.95\n",
      "recall= 0.9661016949152542\n",
      "F1= 0.957983193277311\n",
      "60.0 2.0\n",
      "2.0 25.0\n",
      "precision= 0.967741935483871\n",
      "recall= 0.967741935483871\n",
      "F1= 0.9677419354838711\n",
      "55.0 1.0\n",
      "0.0 29.0\n",
      "precision= 1.0\n",
      "recall= 0.9821428571428571\n",
      "F1= 0.9909909909909909\n",
      "70.0 0.0\n",
      "0.0 44.0\n",
      "precision= 1.0\n",
      "recall= 1.0\n",
      "F1= 1.0\n",
      "71.0 2.0\n",
      "1.0 33.0\n",
      "precision= 0.9861111111111112\n",
      "recall= 0.9726027397260274\n",
      "F1= 0.9793103448275863\n",
      "70.0 0.0\n",
      "2.0 31.0\n",
      "precision= 0.9722222222222222\n",
      "recall= 1.0\n",
      "F1= 0.9859154929577465\n",
      "58.0 1.0\n",
      "0.0 32.0\n",
      "precision= 1.0\n",
      "recall= 0.9830508474576272\n",
      "F1= 0.9914529914529915\n"
     ]
    }
   ],
   "source": [
    "test_RFC = []\n",
    "myrfc = RFC()\n",
    "for i in range(1,11):\n",
    "    X, y, X1, y1 = readtrainForest(i)\n",
    "    myrfc.fit(X,y)\n",
    "    y1_pred = myrfc.predict(X1)\n",
    "    \n",
    "    TP = 0.0 # True positive\n",
    "    TN = 0.0 # True negative\n",
    "    FP = 0.0 # False positive\n",
    "    FN = 0.0 # False negative\n",
    "    F1 = 0.0\n",
    "    for i in range(len(y1)):\n",
    "        if (y1[i] == 'positive'):\n",
    "            if y1[i] == y1_pred[i]:\n",
    "                TP += 1\n",
    "            else:\n",
    "                FN += 1\n",
    "        else:\n",
    "            if y1[i] == y1_pred[i]:\n",
    "                TN += 1\n",
    "            else:\n",
    "                FP += 1\n",
    "    test_RFC.append({'TP':TP,'FN':FN, 'FP':FP, 'TN':TN})\n",
    "    print (test_RFC[-1]['TP'], test_RFC[-1]['FN'])\n",
    "    print (test_RFC[-1]['FP'], test_RFC[-1]['TN'])\n",
    "    # precision\n",
    "    test_RFC[-1]['precision'] = test_RFC[-1]['TP']/(test_RFC[-1]['TP']+test_RFC[-1]['FP'])\n",
    "    print ('precision=', test_RFC[-1]['precision'])\n",
    "    # recall\n",
    "    test_RFC[-1]['recall'] = test_RFC[-1]['TP']/(test_RFC[-1]['TP']+test_RFC[-1]['FN'])\n",
    "    print ('recall=', test_RFC[-1]['recall'])\n",
    "    # F1-score\n",
    "    test_RFC[-1]['F1'] = 2/(1/test_RFC[-1]['recall']+1/test_RFC[-1]['precision'])\n",
    "    print ('F1=', test_RFC[-1]['F1'])"
   ]
  },
  {
   "cell_type": "code",
   "execution_count": 105,
   "metadata": {
    "collapsed": false
   },
   "outputs": [
    {
     "name": "stdout",
     "output_type": "stream",
     "text": [
      "avg p =  0.98238172043\n",
      "avg r =  0.980064633044\n",
      "avg f1 =  0.981154979681\n"
     ]
    }
   ],
   "source": [
    "p_RFC = np.array([i['precision'] for i in test_RFC])\n",
    "r_RFC = np.array([i['recall'] for i in test_RFC])\n",
    "f1_RFC = np.array([i['F1'] for i in test_RFC])\n",
    "print ('avg p = ', np.mean(p_RFC))\n",
    "print ('avg r = ', np.mean(r_RFC))\n",
    "print ('avg f1 = ', np.mean(f1_RFC))"
   ]
  },
  {
   "cell_type": "markdown",
   "metadata": {},
   "source": [
    "#### Видим,  что RFC дает ошибку в 2-4 примера, что почти идеально классифицирует объекты"
   ]
  }
 ],
 "metadata": {
  "anaconda-cloud": {},
  "kernelspec": {
   "display_name": "Python [default]",
   "language": "python",
   "name": "python3"
  },
  "language_info": {
   "codemirror_mode": {
    "name": "ipython",
    "version": 3
   },
   "file_extension": ".py",
   "mimetype": "text/x-python",
   "name": "python",
   "nbconvert_exporter": "python",
   "pygments_lexer": "ipython3",
   "version": "3.5.2"
  }
 },
 "nbformat": 4,
 "nbformat_minor": 2
}
